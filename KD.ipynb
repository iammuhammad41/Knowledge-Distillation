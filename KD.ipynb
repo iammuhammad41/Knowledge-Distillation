{
  "cells": [
    {
      "cell_type": "markdown",
      "metadata": {
        "id": "view-in-github",
        "colab_type": "text"
      },
      "source": [
        "<a href=\"https://colab.research.google.com/github/iammuhammad41/Knowledge-Distillation/blob/main/KD.ipynb\" target=\"_parent\"><img src=\"https://colab.research.google.com/assets/colab-badge.svg\" alt=\"Open In Colab\"/></a>"
      ]
    },
    {
      "cell_type": "code",
      "execution_count": null,
      "id": "10a1baba",
      "metadata": {
        "execution": {
          "iopub.execute_input": "2023-04-24T17:23:43.637377Z",
          "iopub.status.busy": "2023-04-24T17:23:43.636505Z",
          "iopub.status.idle": "2023-04-24T17:23:50.798227Z",
          "shell.execute_reply": "2023-04-24T17:23:50.797047Z"
        },
        "papermill": {
          "duration": 7.170008,
          "end_time": "2023-04-24T17:23:50.800917",
          "exception": false,
          "start_time": "2023-04-24T17:23:43.630909",
          "status": "completed"
        },
        "tags": [],
        "id": "10a1baba"
      },
      "outputs": [],
      "source": [
        "import tensorflow as tf\n",
        "from tensorflow import keras\n",
        "from tensorflow.keras import layers\n",
        "import numpy as np"
      ]
    },
    {
      "cell_type": "code",
      "execution_count": null,
      "id": "863ca9f3",
      "metadata": {
        "execution": {
          "iopub.execute_input": "2023-04-24T17:23:50.819410Z",
          "iopub.status.busy": "2023-04-24T17:23:50.818749Z",
          "iopub.status.idle": "2023-04-24T17:23:50.833794Z",
          "shell.execute_reply": "2023-04-24T17:23:50.832857Z"
        },
        "papermill": {
          "duration": 0.022829,
          "end_time": "2023-04-24T17:23:50.836072",
          "exception": false,
          "start_time": "2023-04-24T17:23:50.813243",
          "status": "completed"
        },
        "tags": [],
        "id": "863ca9f3"
      },
      "outputs": [],
      "source": [
        "class Distiller(keras.Model):\n",
        "    def __init__(self, student, teacher):\n",
        "        super().__init__()\n",
        "        self.teacher = teacher\n",
        "        self.student = student\n",
        "\n",
        "    def compile(\n",
        "        self,\n",
        "        optimizer,\n",
        "        metrics,\n",
        "        student_loss_fn,\n",
        "        distillation_loss_fn,\n",
        "        alpha=0.1,\n",
        "        temperature=3,\n",
        "    ):\n",
        "        \"\"\" Configure the distiller.\n",
        "\n",
        "        Args:\n",
        "            optimizer: Keras optimizer for the student weights\n",
        "            metrics: Keras metrics for evaluation\n",
        "            student_loss_fn: Loss function of difference between student\n",
        "                predictions and ground-truth\n",
        "            distillation_loss_fn: Loss function of difference between soft\n",
        "                student predictions and soft teacher predictions\n",
        "            alpha: weight to student_loss_fn and 1-alpha to distillation_loss_fn\n",
        "            temperature: Temperature for softening probability distributions.\n",
        "                Larger temperature gives softer distributions.\n",
        "        \"\"\"\n",
        "        super().compile(optimizer=optimizer, metrics=metrics)\n",
        "        self.student_loss_fn = student_loss_fn\n",
        "        self.distillation_loss_fn = distillation_loss_fn\n",
        "        self.alpha = alpha\n",
        "        self.temperature = temperature\n",
        "\n",
        "    def train_step(self, data):\n",
        "        # Unpack data\n",
        "        x, y = data\n",
        "\n",
        "        # Forward pass of teacher\n",
        "        teacher_predictions = self.teacher(x, training=False)\n",
        "\n",
        "        with tf.GradientTape() as tape:\n",
        "            # Forward pass of student\n",
        "            student_predictions = self.student(x, training=True)\n",
        "\n",
        "            # Compute losses\n",
        "            student_loss = self.student_loss_fn(y, student_predictions)\n",
        "\n",
        "            # Compute scaled distillation loss from https://arxiv.org/abs/1503.02531\n",
        "            # The magnitudes of the gradients produced by the soft targets scale\n",
        "            # as 1/T^2, multiply them by T^2 when using both hard and soft targets.\n",
        "            distillation_loss = (\n",
        "                self.distillation_loss_fn(\n",
        "                    tf.nn.softmax(teacher_predictions / self.temperature, axis=1),\n",
        "                    tf.nn.softmax(student_predictions / self.temperature, axis=1),\n",
        "                )\n",
        "                * self.temperature**2\n",
        "            )\n",
        "\n",
        "            loss = self.alpha * student_loss + (1 - self.alpha) * distillation_loss\n",
        "\n",
        "        # Compute gradients\n",
        "        trainable_vars = self.student.trainable_variables\n",
        "        gradients = tape.gradient(loss, trainable_vars)\n",
        "\n",
        "        # Update weights\n",
        "        self.optimizer.apply_gradients(zip(gradients, trainable_vars))\n",
        "\n",
        "        # Update the metrics configured in `compile()`.\n",
        "        self.compiled_metrics.update_state(y, student_predictions)\n",
        "\n",
        "        # Return a dict of performance\n",
        "        results = {m.name: m.result() for m in self.metrics}\n",
        "        results.update(\n",
        "            {\"student_loss\": student_loss, \"distillation_loss\": distillation_loss}\n",
        "        )\n",
        "        return results\n",
        "\n",
        "    def test_step(self, data):\n",
        "        # Unpack the data\n",
        "        x, y = data\n",
        "\n",
        "        # Compute predictions\n",
        "        y_prediction = self.student(x, training=False)\n",
        "\n",
        "        # Calculate the loss\n",
        "        student_loss = self.student_loss_fn(y, y_prediction)\n",
        "\n",
        "        # Update the metrics.\n",
        "        self.compiled_metrics.update_state(y, y_prediction)\n",
        "\n",
        "        # Return a dict of performance\n",
        "        results = {m.name: m.result() for m in self.metrics}\n",
        "        results.update({\"student_loss\": student_loss})\n",
        "        return results"
      ]
    },
    {
      "cell_type": "code",
      "execution_count": null,
      "id": "a6e3e37f",
      "metadata": {
        "execution": {
          "iopub.execute_input": "2023-04-24T17:23:50.853724Z",
          "iopub.status.busy": "2023-04-24T17:23:50.852856Z",
          "iopub.status.idle": "2023-04-24T17:23:53.526033Z",
          "shell.execute_reply": "2023-04-24T17:23:53.524989Z"
        },
        "papermill": {
          "duration": 2.680965,
          "end_time": "2023-04-24T17:23:53.528937",
          "exception": false,
          "start_time": "2023-04-24T17:23:50.847972",
          "status": "completed"
        },
        "tags": [],
        "id": "a6e3e37f"
      },
      "outputs": [],
      "source": [
        "# Create the teacher\n",
        "teacher = keras.Sequential(\n",
        "    [\n",
        "        keras.Input(shape=(28, 28, 1)),\n",
        "        layers.Conv2D(256, (3, 3), strides=(2, 2), padding=\"same\"),\n",
        "        layers.LeakyReLU(alpha=0.2),\n",
        "        layers.MaxPooling2D(pool_size=(2, 2), strides=(1, 1), padding=\"same\"),\n",
        "        layers.Conv2D(512, (3, 3), strides=(2, 2), padding=\"same\"),\n",
        "        layers.Flatten(),\n",
        "        layers.Dense(10),\n",
        "    ],\n",
        "    name=\"teacher\",\n",
        ")\n",
        "\n",
        "# Create the student\n",
        "student = keras.Sequential(\n",
        "    [\n",
        "        keras.Input(shape=(28, 28, 1)),\n",
        "        layers.Conv2D(16, (3, 3), strides=(2, 2), padding=\"same\"),\n",
        "        layers.LeakyReLU(alpha=0.2),\n",
        "        layers.MaxPooling2D(pool_size=(2, 2), strides=(1, 1), padding=\"same\"),\n",
        "        layers.Conv2D(32, (3, 3), strides=(2, 2), padding=\"same\"),\n",
        "        layers.Flatten(),\n",
        "        layers.Dense(10),\n",
        "    ],\n",
        "    name=\"student\",\n",
        ")\n",
        "\n",
        "# Clone student for later comparison\n",
        "student_scratch = keras.models.clone_model(student)"
      ]
    },
    {
      "cell_type": "code",
      "execution_count": null,
      "id": "ab0588d9",
      "metadata": {
        "execution": {
          "iopub.execute_input": "2023-04-24T17:23:53.546717Z",
          "iopub.status.busy": "2023-04-24T17:23:53.546411Z",
          "iopub.status.idle": "2023-04-24T17:23:55.235124Z",
          "shell.execute_reply": "2023-04-24T17:23:55.234024Z"
        },
        "papermill": {
          "duration": 1.696283,
          "end_time": "2023-04-24T17:23:55.237732",
          "exception": false,
          "start_time": "2023-04-24T17:23:53.541449",
          "status": "completed"
        },
        "tags": [],
        "id": "ab0588d9",
        "outputId": "e8a5de29-15c4-4e27-e683-271600acc74c"
      },
      "outputs": [
        {
          "name": "stdout",
          "output_type": "stream",
          "text": [
            "Downloading data from https://storage.googleapis.com/tensorflow/tf-keras-datasets/mnist.npz\n",
            "11490434/11490434 [==============================] - 1s 0us/step\n"
          ]
        }
      ],
      "source": [
        "# Prepare the train and test dataset.\n",
        "batch_size = 64\n",
        "(x_train, y_train), (x_test, y_test) = keras.datasets.mnist.load_data()\n",
        "\n",
        "# Normalize data\n",
        "x_train = x_train.astype(\"float32\") / 255.0\n",
        "x_train = np.reshape(x_train, (-1, 28, 28, 1))\n",
        "\n",
        "x_test = x_test.astype(\"float32\") / 255.0\n",
        "x_test = np.reshape(x_test, (-1, 28, 28, 1))"
      ]
    },
    {
      "cell_type": "code",
      "execution_count": null,
      "id": "868140a9",
      "metadata": {
        "execution": {
          "iopub.execute_input": "2023-04-24T17:23:55.260167Z",
          "iopub.status.busy": "2023-04-24T17:23:55.259822Z",
          "iopub.status.idle": "2023-04-24T17:25:43.031242Z",
          "shell.execute_reply": "2023-04-24T17:25:43.030013Z"
        },
        "papermill": {
          "duration": 107.779954,
          "end_time": "2023-04-24T17:25:43.033687",
          "exception": false,
          "start_time": "2023-04-24T17:23:55.253733",
          "status": "completed"
        },
        "tags": [],
        "id": "868140a9",
        "outputId": "2cf3a7f8-200d-4ceb-871f-90484b572282"
      },
      "outputs": [
        {
          "name": "stdout",
          "output_type": "stream",
          "text": [
            "Epoch 1/10\n",
            "1875/1875 [==============================] - 17s 5ms/step - loss: 0.1450 - sparse_categorical_accuracy: 0.9562\n",
            "Epoch 2/10\n",
            "1875/1875 [==============================] - 10s 5ms/step - loss: 0.0934 - sparse_categorical_accuracy: 0.9716\n",
            "Epoch 3/10\n",
            "1875/1875 [==============================] - 10s 5ms/step - loss: 0.0813 - sparse_categorical_accuracy: 0.9762\n",
            "Epoch 4/10\n",
            "1875/1875 [==============================] - 10s 5ms/step - loss: 0.0740 - sparse_categorical_accuracy: 0.9786\n",
            "Epoch 5/10\n",
            "1875/1875 [==============================] - 10s 5ms/step - loss: 0.0700 - sparse_categorical_accuracy: 0.9803\n",
            "Epoch 6/10\n",
            "1875/1875 [==============================] - 10s 5ms/step - loss: 0.0652 - sparse_categorical_accuracy: 0.9823\n",
            "Epoch 7/10\n",
            "1875/1875 [==============================] - 10s 5ms/step - loss: 0.0654 - sparse_categorical_accuracy: 0.9831\n",
            "Epoch 8/10\n",
            "1875/1875 [==============================] - 10s 5ms/step - loss: 0.0628 - sparse_categorical_accuracy: 0.9838\n",
            "Epoch 9/10\n",
            "1875/1875 [==============================] - 10s 5ms/step - loss: 0.0596 - sparse_categorical_accuracy: 0.9851\n",
            "Epoch 10/10\n",
            "1875/1875 [==============================] - 10s 5ms/step - loss: 0.0609 - sparse_categorical_accuracy: 0.9858\n",
            "313/313 [==============================] - 1s 3ms/step - loss: 0.1495 - sparse_categorical_accuracy: 0.9754\n"
          ]
        },
        {
          "data": {
            "text/plain": [
              "[0.14949066936969757, 0.9753999710083008]"
            ]
          },
          "execution_count": 5,
          "metadata": {},
          "output_type": "execute_result"
        }
      ],
      "source": [
        "# Train teacher as usual\n",
        "teacher.compile(\n",
        "    optimizer=keras.optimizers.Adam(),\n",
        "    loss=keras.losses.SparseCategoricalCrossentropy(from_logits=True),\n",
        "    metrics=[keras.metrics.SparseCategoricalAccuracy()],\n",
        ")\n",
        "\n",
        "# Train and evaluate teacher on data.\n",
        "teacher.fit(x_train, y_train, epochs=10)\n",
        "teacher.evaluate(x_test, y_test)"
      ]
    },
    {
      "cell_type": "code",
      "execution_count": null,
      "id": "98dae3e0",
      "metadata": {
        "execution": {
          "iopub.execute_input": "2023-04-24T17:25:43.248797Z",
          "iopub.status.busy": "2023-04-24T17:25:43.246838Z",
          "iopub.status.idle": "2023-04-24T17:25:43.271841Z",
          "shell.execute_reply": "2023-04-24T17:25:43.270906Z"
        },
        "papermill": {
          "duration": 0.144015,
          "end_time": "2023-04-24T17:25:43.284144",
          "exception": false,
          "start_time": "2023-04-24T17:25:43.140129",
          "status": "completed"
        },
        "tags": [],
        "id": "98dae3e0",
        "outputId": "58567c27-da8b-43a0-c305-e6b0d55ca2d4"
      },
      "outputs": [
        {
          "name": "stdout",
          "output_type": "stream",
          "text": [
            "Model: \"teacher\"\n",
            "_________________________________________________________________\n",
            " Layer (type)                Output Shape              Param #   \n",
            "=================================================================\n",
            " conv2d (Conv2D)             (None, 14, 14, 256)       2560      \n",
            "                                                                 \n",
            " leaky_re_lu (LeakyReLU)     (None, 14, 14, 256)       0         \n",
            "                                                                 \n",
            " max_pooling2d (MaxPooling2D  (None, 14, 14, 256)      0         \n",
            " )                                                               \n",
            "                                                                 \n",
            " conv2d_1 (Conv2D)           (None, 7, 7, 512)         1180160   \n",
            "                                                                 \n",
            " flatten (Flatten)           (None, 25088)             0         \n",
            "                                                                 \n",
            " dense (Dense)               (None, 10)                250890    \n",
            "                                                                 \n",
            "=================================================================\n",
            "Total params: 1,433,610\n",
            "Trainable params: 1,433,610\n",
            "Non-trainable params: 0\n",
            "_________________________________________________________________\n"
          ]
        }
      ],
      "source": [
        "teacher.summary()"
      ]
    },
    {
      "cell_type": "code",
      "execution_count": null,
      "id": "b167339e",
      "metadata": {
        "execution": {
          "iopub.execute_input": "2023-04-24T17:25:43.498144Z",
          "iopub.status.busy": "2023-04-24T17:25:43.497769Z",
          "iopub.status.idle": "2023-04-24T17:25:43.520418Z",
          "shell.execute_reply": "2023-04-24T17:25:43.519461Z"
        },
        "papermill": {
          "duration": 0.143151,
          "end_time": "2023-04-24T17:25:43.533267",
          "exception": false,
          "start_time": "2023-04-24T17:25:43.390116",
          "status": "completed"
        },
        "tags": [],
        "id": "b167339e",
        "outputId": "de3d8a7e-04de-4300-de8a-b5a74b25bb49"
      },
      "outputs": [
        {
          "name": "stdout",
          "output_type": "stream",
          "text": [
            "Model: \"student\"\n",
            "_________________________________________________________________\n",
            " Layer (type)                Output Shape              Param #   \n",
            "=================================================================\n",
            " conv2d_2 (Conv2D)           (None, 14, 14, 16)        160       \n",
            "                                                                 \n",
            " leaky_re_lu_1 (LeakyReLU)   (None, 14, 14, 16)        0         \n",
            "                                                                 \n",
            " max_pooling2d_1 (MaxPooling  (None, 14, 14, 16)       0         \n",
            " 2D)                                                             \n",
            "                                                                 \n",
            " conv2d_3 (Conv2D)           (None, 7, 7, 32)          4640      \n",
            "                                                                 \n",
            " flatten_1 (Flatten)         (None, 1568)              0         \n",
            "                                                                 \n",
            " dense_1 (Dense)             (None, 10)                15690     \n",
            "                                                                 \n",
            "=================================================================\n",
            "Total params: 20,490\n",
            "Trainable params: 20,490\n",
            "Non-trainable params: 0\n",
            "_________________________________________________________________\n"
          ]
        }
      ],
      "source": [
        "student.summary()"
      ]
    },
    {
      "cell_type": "code",
      "execution_count": null,
      "id": "de0b7b4f",
      "metadata": {
        "execution": {
          "iopub.execute_input": "2023-04-24T17:25:43.967530Z",
          "iopub.status.busy": "2023-04-24T17:25:43.966815Z",
          "iopub.status.idle": "2023-04-24T17:26:55.893004Z",
          "shell.execute_reply": "2023-04-24T17:26:55.891995Z"
        },
        "papermill": {
          "duration": 72.03751,
          "end_time": "2023-04-24T17:26:55.895083",
          "exception": false,
          "start_time": "2023-04-24T17:25:43.857573",
          "status": "completed"
        },
        "tags": [],
        "id": "de0b7b4f",
        "outputId": "27782cba-a834-4e71-939d-bb8c154c96f4"
      },
      "outputs": [
        {
          "name": "stdout",
          "output_type": "stream",
          "text": [
            "Epoch 1/10\n",
            "1875/1875 [==============================] - 9s 4ms/step - sparse_categorical_accuracy: 0.8654 - student_loss: 1.1450 - distillation_loss: 24.9329\n",
            "Epoch 2/10\n",
            "1875/1875 [==============================] - 7s 4ms/step - sparse_categorical_accuracy: 0.9546 - student_loss: 0.3343 - distillation_loss: 6.7705\n",
            "Epoch 3/10\n",
            "1875/1875 [==============================] - 7s 4ms/step - sparse_categorical_accuracy: 0.9678 - student_loss: 0.2122 - distillation_loss: 3.9092\n",
            "Epoch 4/10\n",
            "1875/1875 [==============================] - 7s 4ms/step - sparse_categorical_accuracy: 0.9717 - student_loss: 0.1809 - distillation_loss: 3.0789\n",
            "Epoch 5/10\n",
            "1875/1875 [==============================] - 7s 4ms/step - sparse_categorical_accuracy: 0.9738 - student_loss: 0.1622 - distillation_loss: 2.6220\n",
            "Epoch 6/10\n",
            "1875/1875 [==============================] - 7s 4ms/step - sparse_categorical_accuracy: 0.9753 - student_loss: 0.1506 - distillation_loss: 2.3036\n",
            "Epoch 7/10\n",
            "1875/1875 [==============================] - 7s 4ms/step - sparse_categorical_accuracy: 0.9764 - student_loss: 0.1416 - distillation_loss: 2.0664\n",
            "Epoch 8/10\n",
            "1875/1875 [==============================] - 7s 4ms/step - sparse_categorical_accuracy: 0.9773 - student_loss: 0.1322 - distillation_loss: 1.9005\n",
            "Epoch 9/10\n",
            "1875/1875 [==============================] - 7s 4ms/step - sparse_categorical_accuracy: 0.9777 - student_loss: 0.1284 - distillation_loss: 1.7829\n",
            "Epoch 10/10\n",
            "1875/1875 [==============================] - 7s 4ms/step - sparse_categorical_accuracy: 0.9784 - student_loss: 0.1231 - distillation_loss: 1.6979\n"
          ]
        },
        {
          "data": {
            "text/plain": [
              "<keras.callbacks.History at 0x72872861ed90>"
            ]
          },
          "execution_count": 8,
          "metadata": {},
          "output_type": "execute_result"
        }
      ],
      "source": [
        "# Initialize and compile distiller\n",
        "distiller = Distiller(student=student, teacher=teacher)\n",
        "distiller.compile(\n",
        "    optimizer=keras.optimizers.Adam(),\n",
        "    metrics=[keras.metrics.SparseCategoricalAccuracy()],\n",
        "    student_loss_fn=keras.losses.SparseCategoricalCrossentropy(from_logits=True),\n",
        "    distillation_loss_fn=keras.losses.KLDivergence(),\n",
        "    alpha=0.1,\n",
        "    temperature=10,\n",
        ")\n",
        "\n",
        "# Distill teacher to student\n",
        "distiller.fit(x_train, y_train, epochs=10)"
      ]
    },
    {
      "cell_type": "code",
      "execution_count": null,
      "id": "4f3c64c8",
      "metadata": {
        "execution": {
          "iopub.execute_input": "2023-04-24T17:26:56.296133Z",
          "iopub.status.busy": "2023-04-24T17:26:56.295501Z",
          "iopub.status.idle": "2023-04-24T17:26:57.880694Z",
          "shell.execute_reply": "2023-04-24T17:26:57.879809Z"
        },
        "papermill": {
          "duration": 1.806998,
          "end_time": "2023-04-24T17:26:57.882838",
          "exception": false,
          "start_time": "2023-04-24T17:26:56.075840",
          "status": "completed"
        },
        "tags": [],
        "id": "4f3c64c8",
        "outputId": "c50a821f-59ec-4865-bdc7-4ff398f4c880"
      },
      "outputs": [
        {
          "name": "stdout",
          "output_type": "stream",
          "text": [
            "313/313 [==============================] - 1s 3ms/step - loss: 0.1756 - sparse_categorical_accuracy: 0.9733\n"
          ]
        },
        {
          "data": {
            "text/plain": [
              "[0.17564243078231812, 0.9732999801635742]"
            ]
          },
          "execution_count": 9,
          "metadata": {},
          "output_type": "execute_result"
        }
      ],
      "source": [
        "student.compile(\n",
        "    optimizer=keras.optimizers.Adam(),\n",
        "    loss=keras.losses.SparseCategoricalCrossentropy(from_logits=True),\n",
        "    metrics=[keras.metrics.SparseCategoricalAccuracy()],\n",
        ")\n",
        "student.evaluate(x_test, y_test)"
      ]
    },
    {
      "cell_type": "code",
      "execution_count": null,
      "id": "c56ecd8a",
      "metadata": {
        "execution": {
          "iopub.execute_input": "2023-04-24T17:26:58.619204Z",
          "iopub.status.busy": "2023-04-24T17:26:58.618622Z",
          "iopub.status.idle": "2023-04-24T17:27:57.580295Z",
          "shell.execute_reply": "2023-04-24T17:27:57.579242Z"
        },
        "papermill": {
          "duration": 59.151274,
          "end_time": "2023-04-24T17:27:57.582366",
          "exception": false,
          "start_time": "2023-04-24T17:26:58.431092",
          "status": "completed"
        },
        "tags": [],
        "id": "c56ecd8a",
        "outputId": "79f814e7-3110-4430-b006-5dc962e5ec36"
      },
      "outputs": [
        {
          "name": "stdout",
          "output_type": "stream",
          "text": [
            "Epoch 1/10\n",
            "1875/1875 [==============================] - 7s 3ms/step - loss: 0.2155 - sparse_categorical_accuracy: 0.9356\n",
            "Epoch 2/10\n",
            "1875/1875 [==============================] - 5s 3ms/step - loss: 0.0899 - sparse_categorical_accuracy: 0.9718\n",
            "Epoch 3/10\n",
            "1875/1875 [==============================] - 6s 3ms/step - loss: 0.0741 - sparse_categorical_accuracy: 0.9772\n",
            "Epoch 4/10\n",
            "1875/1875 [==============================] - 5s 3ms/step - loss: 0.0638 - sparse_categorical_accuracy: 0.9801\n",
            "Epoch 5/10\n",
            "1875/1875 [==============================] - 6s 3ms/step - loss: 0.0586 - sparse_categorical_accuracy: 0.9817\n",
            "Epoch 6/10\n",
            "1875/1875 [==============================] - 6s 3ms/step - loss: 0.0530 - sparse_categorical_accuracy: 0.9833\n",
            "Epoch 7/10\n",
            "1875/1875 [==============================] - 6s 3ms/step - loss: 0.0496 - sparse_categorical_accuracy: 0.9840\n",
            "Epoch 8/10\n",
            "1875/1875 [==============================] - 6s 3ms/step - loss: 0.0450 - sparse_categorical_accuracy: 0.9863\n",
            "Epoch 9/10\n",
            "1875/1875 [==============================] - 6s 3ms/step - loss: 0.0418 - sparse_categorical_accuracy: 0.9869\n",
            "Epoch 10/10\n",
            "1875/1875 [==============================] - 5s 3ms/step - loss: 0.0387 - sparse_categorical_accuracy: 0.9879\n",
            "313/313 [==============================] - 1s 2ms/step - loss: 0.0587 - sparse_categorical_accuracy: 0.9823\n"
          ]
        },
        {
          "data": {
            "text/plain": [
              "[0.05867832154035568, 0.9822999835014343]"
            ]
          },
          "execution_count": 10,
          "metadata": {},
          "output_type": "execute_result"
        }
      ],
      "source": [
        "# Train student as doen usually\n",
        "student_scratch.compile(\n",
        "    optimizer=keras.optimizers.Adam(),\n",
        "    loss=keras.losses.SparseCategoricalCrossentropy(from_logits=True),\n",
        "    metrics=[keras.metrics.SparseCategoricalAccuracy()],\n",
        ")\n",
        "\n",
        "# Train and evaluate student trained from scratch.\n",
        "student_scratch.fit(x_train, y_train, epochs=10)\n",
        "student_scratch.evaluate(x_test, y_test)"
      ]
    }
  ],
  "metadata": {
    "kernelspec": {
      "display_name": "Python 3",
      "language": "python",
      "name": "python3"
    },
    "language_info": {
      "codemirror_mode": {
        "name": "ipython",
        "version": 3
      },
      "file_extension": ".py",
      "mimetype": "text/x-python",
      "name": "python",
      "nbconvert_exporter": "python",
      "pygments_lexer": "ipython3",
      "version": "3.7.12"
    },
    "papermill": {
      "default_parameters": {},
      "duration": 267.845421,
      "end_time": "2023-04-24T17:28:02.728878",
      "environment_variables": {},
      "exception": null,
      "input_path": "__notebook__.ipynb",
      "output_path": "__notebook__.ipynb",
      "parameters": {},
      "start_time": "2023-04-24T17:23:34.883457",
      "version": "2.4.0"
    },
    "colab": {
      "provenance": [],
      "include_colab_link": true
    }
  },
  "nbformat": 4,
  "nbformat_minor": 5
}