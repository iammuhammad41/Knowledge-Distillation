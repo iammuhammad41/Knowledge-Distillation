{
  "cells": [
    {
      "cell_type": "markdown",
      "metadata": {
        "id": "view-in-github",
        "colab_type": "text"
      },
      "source": [
        "<a href=\"https://colab.research.google.com/github/iammuhammad41/Knowledge-Distillation/blob/main/knowledge_distillation.ipynb\" target=\"_parent\"><img src=\"https://colab.research.google.com/assets/colab-badge.svg\" alt=\"Open In Colab\"/></a>"
      ]
    },
    {
      "cell_type": "code",
      "execution_count": null,
      "id": "85951d9f",
      "metadata": {
        "execution": {
          "iopub.execute_input": "2024-02-29T11:37:10.689678Z",
          "iopub.status.busy": "2024-02-29T11:37:10.689281Z",
          "iopub.status.idle": "2024-02-29T11:37:50.180756Z",
          "shell.execute_reply": "2024-02-29T11:37:50.179469Z"
        },
        "papermill": {
          "duration": 39.500634,
          "end_time": "2024-02-29T11:37:50.183184",
          "exception": false,
          "start_time": "2024-02-29T11:37:10.682550",
          "status": "completed"
        },
        "tags": [],
        "id": "85951d9f"
      },
      "outputs": [],
      "source": [
        "# %%capture\n",
        "# !pip install transformers==4.35.2\n",
        "# !pip install datasets==2.15.0\n",
        "# !pip install evaluate==0.4.1"
      ]
    },
    {
      "cell_type": "code",
      "execution_count": null,
      "id": "8584570e",
      "metadata": {
        "execution": {
          "iopub.execute_input": "2024-02-29T11:37:50.194596Z",
          "iopub.status.busy": "2024-02-29T11:37:50.194269Z",
          "iopub.status.idle": "2024-02-29T11:37:51.486242Z",
          "shell.execute_reply": "2024-02-29T11:37:51.485513Z"
        },
        "papermill": {
          "duration": 1.300041,
          "end_time": "2024-02-29T11:37:51.488324",
          "exception": false,
          "start_time": "2024-02-29T11:37:50.188283",
          "status": "completed"
        },
        "tags": [],
        "id": "8584570e",
        "outputId": "46e5f0b5-f066-4b6a-dd2d-fd96f5bb2355"
      },
      "outputs": [
        {
          "name": "stdout",
          "output_type": "stream",
          "text": [
            "Token will not been saved to git credential helper. Pass `add_to_git_credential=True` if you want to set the git credential as well.\n",
            "Token is valid (permission: write).\n",
            "Your token has been saved to /root/.cache/huggingface/token\n",
            "Login successful\n"
          ]
        }
      ],
      "source": [
        "import os\n",
        "from huggingface_hub import login\n",
        "from kaggle_secrets import UserSecretsClient\n",
        "\n",
        "user_secrets = UserSecretsClient()\n",
        "\n",
        "login(token=user_secrets.get_secret(\"HUGGINGFACE_TOKEN\"))\n",
        "\n",
        "os.environ[\"WANDB_API_KEY\"]=user_secrets.get_secret(\"WANDB_API_KEY\")\n",
        "os.environ[\"WANDB_PROJECT\"] = \"Fine-tuning merve-beans-vit-224-on-beands\"\n",
        "os.environ[\"WANDB_NOTES\"] = \"Fine tune model distilbert base uncased\"\n",
        "os.environ[\"WANDB_NAME\"] = \"distill-beans-vit-224-to-mobile-net-v2\""
      ]
    },
    {
      "cell_type": "code",
      "execution_count": null,
      "id": "ec975063",
      "metadata": {
        "execution": {
          "iopub.execute_input": "2024-02-29T11:37:51.509118Z",
          "iopub.status.busy": "2024-02-29T11:37:51.508832Z",
          "iopub.status.idle": "2024-02-29T11:39:08.406002Z",
          "shell.execute_reply": "2024-02-29T11:39:08.405038Z"
        },
        "papermill": {
          "duration": 76.904997,
          "end_time": "2024-02-29T11:39:08.408132",
          "exception": false,
          "start_time": "2024-02-29T11:37:51.503135",
          "status": "completed"
        },
        "tags": [],
        "id": "ec975063",
        "outputId": "cc9a3aa0-e2af-4ede-f641-e026711ed8d3",
        "colab": {
          "referenced_widgets": [
            "da2ab7b2baa24028b559647474861b60",
            "6bf543cef5f942ad82e9ccb6919eb5cf",
            "b6dab832da1d4e3785c58d88a56b4e9e",
            "f4f52099dda942349e0e5535e73046b0",
            "8a70d985bd614422a8303a91aa8f7357",
            "e6656eb0e98f4768b0d5cae649be53dc",
            "a1ce6004c1c8439882b088f418a3aa0f",
            "1a82c0668d28489ca4c488ee1df60850",
            "8af12d0f8570485fae69a7b96451fd34"
          ]
        }
      },
      "outputs": [
        {
          "data": {
            "application/vnd.jupyter.widget-view+json": {
              "model_id": "da2ab7b2baa24028b559647474861b60",
              "version_major": 2,
              "version_minor": 0
            },
            "text/plain": [
              "Downloading readme:   0%|          | 0.00/4.95k [00:00<?, ?B/s]"
            ]
          },
          "metadata": {},
          "output_type": "display_data"
        },
        {
          "name": "stderr",
          "output_type": "stream",
          "text": [
            "/opt/conda/lib/python3.10/site-packages/scipy/__init__.py:146: UserWarning: A NumPy version >=1.16.5 and <1.23.0 is required for this version of SciPy (detected version 1.24.3\n",
            "  warnings.warn(f\"A NumPy version >={np_minversion} and <{np_maxversion}\"\n"
          ]
        },
        {
          "data": {
            "application/vnd.jupyter.widget-view+json": {
              "model_id": "6bf543cef5f942ad82e9ccb6919eb5cf",
              "version_major": 2,
              "version_minor": 0
            },
            "text/plain": [
              "Downloading data files:   0%|          | 0/3 [00:00<?, ?it/s]"
            ]
          },
          "metadata": {},
          "output_type": "display_data"
        },
        {
          "data": {
            "application/vnd.jupyter.widget-view+json": {
              "model_id": "b6dab832da1d4e3785c58d88a56b4e9e",
              "version_major": 2,
              "version_minor": 0
            },
            "text/plain": [
              "Downloading data:   0%|          | 0.00/144M [00:00<?, ?B/s]"
            ]
          },
          "metadata": {},
          "output_type": "display_data"
        },
        {
          "data": {
            "application/vnd.jupyter.widget-view+json": {
              "model_id": "f4f52099dda942349e0e5535e73046b0",
              "version_major": 2,
              "version_minor": 0
            },
            "text/plain": [
              "Downloading data:   0%|          | 0.00/18.5M [00:00<?, ?B/s]"
            ]
          },
          "metadata": {},
          "output_type": "display_data"
        },
        {
          "data": {
            "application/vnd.jupyter.widget-view+json": {
              "model_id": "8a70d985bd614422a8303a91aa8f7357",
              "version_major": 2,
              "version_minor": 0
            },
            "text/plain": [
              "Downloading data:   0%|          | 0.00/17.7M [00:00<?, ?B/s]"
            ]
          },
          "metadata": {},
          "output_type": "display_data"
        },
        {
          "data": {
            "application/vnd.jupyter.widget-view+json": {
              "model_id": "e6656eb0e98f4768b0d5cae649be53dc",
              "version_major": 2,
              "version_minor": 0
            },
            "text/plain": [
              "Extracting data files:   0%|          | 0/3 [00:00<?, ?it/s]"
            ]
          },
          "metadata": {},
          "output_type": "display_data"
        },
        {
          "data": {
            "application/vnd.jupyter.widget-view+json": {
              "model_id": "a1ce6004c1c8439882b088f418a3aa0f",
              "version_major": 2,
              "version_minor": 0
            },
            "text/plain": [
              "Generating train split:   0%|          | 0/1034 [00:00<?, ? examples/s]"
            ]
          },
          "metadata": {},
          "output_type": "display_data"
        },
        {
          "data": {
            "application/vnd.jupyter.widget-view+json": {
              "model_id": "1a82c0668d28489ca4c488ee1df60850",
              "version_major": 2,
              "version_minor": 0
            },
            "text/plain": [
              "Generating validation split:   0%|          | 0/133 [00:00<?, ? examples/s]"
            ]
          },
          "metadata": {},
          "output_type": "display_data"
        },
        {
          "data": {
            "application/vnd.jupyter.widget-view+json": {
              "model_id": "8af12d0f8570485fae69a7b96451fd34",
              "version_major": 2,
              "version_minor": 0
            },
            "text/plain": [
              "Generating test split:   0%|          | 0/128 [00:00<?, ? examples/s]"
            ]
          },
          "metadata": {},
          "output_type": "display_data"
        },
        {
          "data": {
            "text/plain": [
              "Dataset({\n",
              "    features: ['image_file_path', 'image', 'labels'],\n",
              "    num_rows: 500\n",
              "})"
            ]
          },
          "execution_count": 3,
          "metadata": {},
          "output_type": "execute_result"
        }
      ],
      "source": [
        "from datasets import load_dataset\n",
        "\n",
        "dataset=load_dataset(\"beans\", split=\"train[:500]\")\n",
        "dataset"
      ]
    },
    {
      "cell_type": "code",
      "execution_count": null,
      "id": "6ef362bc",
      "metadata": {
        "execution": {
          "iopub.execute_input": "2024-02-29T11:39:08.423990Z",
          "iopub.status.busy": "2024-02-29T11:39:08.423396Z",
          "iopub.status.idle": "2024-02-29T11:39:08.439691Z",
          "shell.execute_reply": "2024-02-29T11:39:08.438908Z"
        },
        "papermill": {
          "duration": 0.026275,
          "end_time": "2024-02-29T11:39:08.441575",
          "exception": false,
          "start_time": "2024-02-29T11:39:08.415300",
          "status": "completed"
        },
        "tags": [],
        "id": "6ef362bc",
        "outputId": "28c26f0d-8e33-4c79-8ea3-fc4634b78df7"
      },
      "outputs": [
        {
          "data": {
            "text/plain": [
              "DatasetDict({\n",
              "    train: Dataset({\n",
              "        features: ['image_file_path', 'image', 'labels'],\n",
              "        num_rows: 400\n",
              "    })\n",
              "    test: Dataset({\n",
              "        features: ['image_file_path', 'image', 'labels'],\n",
              "        num_rows: 100\n",
              "    })\n",
              "})"
            ]
          },
          "execution_count": 4,
          "metadata": {},
          "output_type": "execute_result"
        }
      ],
      "source": [
        "dataset=dataset.train_test_split(test_size=0.2)\n",
        "dataset"
      ]
    },
    {
      "cell_type": "code",
      "execution_count": null,
      "id": "8499ae6e",
      "metadata": {
        "execution": {
          "iopub.execute_input": "2024-02-29T11:39:08.469350Z",
          "iopub.status.busy": "2024-02-29T11:39:08.469072Z",
          "iopub.status.idle": "2024-02-29T11:39:23.331827Z",
          "shell.execute_reply": "2024-02-29T11:39:23.330903Z"
        },
        "papermill": {
          "duration": 14.876225,
          "end_time": "2024-02-29T11:39:23.337777",
          "exception": false,
          "start_time": "2024-02-29T11:39:08.461552",
          "status": "completed"
        },
        "tags": [],
        "id": "8499ae6e",
        "outputId": "d0e85147-8bc7-4a80-826a-8ebe2ef9074b",
        "colab": {
          "referenced_widgets": [
            "4e088ce2ca8148bf8a2a1304d7832fe4"
          ]
        }
      },
      "outputs": [
        {
          "data": {
            "application/vnd.jupyter.widget-view+json": {
              "model_id": "4e088ce2ca8148bf8a2a1304d7832fe4",
              "version_major": 2,
              "version_minor": 0
            },
            "text/plain": [
              "preprocessor_config.json:   0%|          | 0.00/325 [00:00<?, ?B/s]"
            ]
          },
          "metadata": {},
          "output_type": "display_data"
        },
        {
          "name": "stdout",
          "output_type": "stream",
          "text": [
            "ViTImageProcessor {\n",
            "  \"do_normalize\": true,\n",
            "  \"do_rescale\": true,\n",
            "  \"do_resize\": true,\n",
            "  \"image_mean\": [\n",
            "    0.5,\n",
            "    0.5,\n",
            "    0.5\n",
            "  ],\n",
            "  \"image_processor_type\": \"ViTImageProcessor\",\n",
            "  \"image_std\": [\n",
            "    0.5,\n",
            "    0.5,\n",
            "    0.5\n",
            "  ],\n",
            "  \"resample\": 2,\n",
            "  \"rescale_factor\": 0.00392156862745098,\n",
            "  \"size\": {\n",
            "    \"height\": 224,\n",
            "    \"width\": 224\n",
            "  }\n",
            "}\n",
            "\n"
          ]
        }
      ],
      "source": [
        "from transformers import AutoImageProcessor\n",
        "\n",
        "teacher_processor=AutoImageProcessor.from_pretrained(\"merve/beans-vit-224\")\n",
        "print(teacher_processor)"
      ]
    },
    {
      "cell_type": "code",
      "execution_count": null,
      "id": "f2e30041",
      "metadata": {
        "execution": {
          "iopub.execute_input": "2024-02-29T11:39:23.353548Z",
          "iopub.status.busy": "2024-02-29T11:39:23.353013Z",
          "iopub.status.idle": "2024-02-29T11:39:32.800517Z",
          "shell.execute_reply": "2024-02-29T11:39:32.799721Z"
        },
        "papermill": {
          "duration": 9.45777,
          "end_time": "2024-02-29T11:39:32.802761",
          "exception": false,
          "start_time": "2024-02-29T11:39:23.344991",
          "status": "completed"
        },
        "tags": [],
        "id": "f2e30041",
        "outputId": "c626d407-9932-46fa-fda8-d6852503231f",
        "colab": {
          "referenced_widgets": [
            "84eec48d40a24d479991e2f1f016fb53",
            "839a039205154a5f98ce3285c15b87da"
          ]
        }
      },
      "outputs": [
        {
          "data": {
            "application/vnd.jupyter.widget-view+json": {
              "model_id": "84eec48d40a24d479991e2f1f016fb53",
              "version_major": 2,
              "version_minor": 0
            },
            "text/plain": [
              "Map:   0%|          | 0/400 [00:00<?, ? examples/s]"
            ]
          },
          "metadata": {},
          "output_type": "display_data"
        },
        {
          "data": {
            "application/vnd.jupyter.widget-view+json": {
              "model_id": "839a039205154a5f98ce3285c15b87da",
              "version_major": 2,
              "version_minor": 0
            },
            "text/plain": [
              "Map:   0%|          | 0/100 [00:00<?, ? examples/s]"
            ]
          },
          "metadata": {},
          "output_type": "display_data"
        }
      ],
      "source": [
        "def process(examples):\n",
        "    processed_inputs=teacher_processor(examples[\"image\"])\n",
        "    return processed_inputs\n",
        "\n",
        "processed_datasets=dataset.map(process, batched=True)"
      ]
    },
    {
      "cell_type": "code",
      "execution_count": null,
      "id": "821a5a28",
      "metadata": {
        "execution": {
          "iopub.execute_input": "2024-02-29T11:39:32.835266Z",
          "iopub.status.busy": "2024-02-29T11:39:32.834958Z",
          "iopub.status.idle": "2024-02-29T11:39:33.709302Z",
          "shell.execute_reply": "2024-02-29T11:39:33.708532Z"
        },
        "papermill": {
          "duration": 0.885147,
          "end_time": "2024-02-29T11:39:33.711847",
          "exception": false,
          "start_time": "2024-02-29T11:39:32.826700",
          "status": "completed"
        },
        "tags": [],
        "id": "821a5a28"
      },
      "outputs": [],
      "source": [
        "from transformers import TrainingArguments, Trainer\n",
        "import torch\n",
        "import torch.nn as nn\n",
        "import torch.nn.functional as F\n",
        "\n",
        "class ImageDistilTrainer(Trainer):\n",
        "    def __init__(self, teacher_model=None, student_model=None, temperature=5, lambda_param=0.5, *args, **kwargs):\n",
        "        super().__init__(model=student_model,*args, **kwargs)\n",
        "        self.teacher=teacher_model\n",
        "        self.student=student_model\n",
        "        self.loss_function=nn.KLDivLoss(reduction=\"batchmean\")\n",
        "        device=\"cuda\"\n",
        "        self.teacher.to(device)\n",
        "        self.teacher.eval()\n",
        "        self.temperature=temperature\n",
        "        self.lambda_param=lambda_param\n",
        "\n",
        "    def compute_loss(self, student, inputs, return_outputs=False):\n",
        "        student_output=self.student(**inputs)\n",
        "\n",
        "        with torch.no_grad():\n",
        "            teacher_output=self.teacher(**inputs)\n",
        "\n",
        "        # Compute soft targets for teacher and student\n",
        "        soft_teacher=F.softmax(teacher_output.logits/self.temperature, dim=-1)\n",
        "        soft_student=F.log_softmax(student_output.logits/self.temperature, dim=-1)\n",
        "\n",
        "        # Compute the loss\n",
        "        distillation_loss=self.loss_function(soft_student, soft_teacher)*(self.temperature **2)\n",
        "\n",
        "        # Compute the true label loss\n",
        "        student_target_loss=student_output.loss\n",
        "\n",
        "        # Calculate final loss\n",
        "        loss=(1.- self.lambda_param)*student_target_loss+self.lambda_param*distillation_loss\n",
        "        return (loss, student_output) if return_outputs else loss"
      ]
    },
    {
      "cell_type": "code",
      "execution_count": null,
      "id": "3e67d994",
      "metadata": {
        "execution": {
          "iopub.execute_input": "2024-02-29T11:39:33.734245Z",
          "iopub.status.busy": "2024-02-29T11:39:33.733915Z",
          "iopub.status.idle": "2024-02-29T11:39:55.851802Z",
          "shell.execute_reply": "2024-02-29T11:39:55.850793Z"
        },
        "papermill": {
          "duration": 22.130666,
          "end_time": "2024-02-29T11:39:55.854234",
          "exception": false,
          "start_time": "2024-02-29T11:39:33.723568",
          "status": "completed"
        },
        "tags": [],
        "id": "3e67d994",
        "outputId": "488a168f-b996-4925-b3dc-4fe7adc3ca25",
        "colab": {
          "referenced_widgets": [
            "dd3ed390feed4ff9aad917a5db3e67b9",
            "4bc09a21def14cb28af6dfcb6b88a8f5"
          ]
        }
      },
      "outputs": [
        {
          "data": {
            "application/vnd.jupyter.widget-view+json": {
              "model_id": "dd3ed390feed4ff9aad917a5db3e67b9",
              "version_major": 2,
              "version_minor": 0
            },
            "text/plain": [
              "config.json:   0%|          | 0.00/799 [00:00<?, ?B/s]"
            ]
          },
          "metadata": {},
          "output_type": "display_data"
        },
        {
          "data": {
            "application/vnd.jupyter.widget-view+json": {
              "model_id": "4bc09a21def14cb28af6dfcb6b88a8f5",
              "version_major": 2,
              "version_minor": 0
            },
            "text/plain": [
              "pytorch_model.bin:   0%|          | 0.00/343M [00:00<?, ?B/s]"
            ]
          },
          "metadata": {},
          "output_type": "display_data"
        }
      ],
      "source": [
        "from transformers import AutoModelForImageClassification, MobileNetV2Config, MobileNetV2ForImageClassification\n",
        "\n",
        "training_args=TrainingArguments(\n",
        "    output_dir=os.getenv(\"WANDB_NAME\"),\n",
        "    num_train_epochs=5,\n",
        "    fp16=True,\n",
        "    logging_dir=f\"{os.getenv('WANDB_NAME')}/logs\",\n",
        "    logging_strategy=\"epoch\",\n",
        "    evaluation_strategy=\"epoch\",\n",
        "    save_strategy=\"epoch\",\n",
        "    load_best_model_at_end=True,\n",
        "    metric_for_best_model=\"accuracy\",\n",
        "    push_to_hub=False,\n",
        "    hub_strategy=\"every_save\",\n",
        "    hub_model_id=os.getenv(\"WANDB_NAME\"),\n",
        "    report_to=\"wandb\", # or report_to=\"tensorboard\"\n",
        "    run_name=os.getenv(\"WANDB_NAME\"),\n",
        ")\n",
        "\n",
        "num_labels=len(processed_datasets[\"train\"].features[\"labels\"].names)\n",
        "\n",
        "# initialize models\n",
        "teacher_model=AutoModelForImageClassification.from_pretrained(\n",
        "    \"merve/beans-vit-224\",\n",
        "    num_labels=num_labels,\n",
        "    ignore_mismatched_sizes=True\n",
        ")\n",
        "\n",
        "# training MobileNetV2 from scratch\n",
        "student_config=MobileNetV2Config() # initiate randomly\n",
        "student_config.num_labels=num_labels\n",
        "student_model=MobileNetV2ForImageClassification(student_config)"
      ]
    },
    {
      "cell_type": "code",
      "execution_count": null,
      "id": "77b8a949",
      "metadata": {
        "execution": {
          "iopub.execute_input": "2024-02-29T11:39:55.886266Z",
          "iopub.status.busy": "2024-02-29T11:39:55.885949Z",
          "iopub.status.idle": "2024-02-29T11:39:59.158843Z",
          "shell.execute_reply": "2024-02-29T11:39:59.157906Z"
        },
        "papermill": {
          "duration": 3.2835,
          "end_time": "2024-02-29T11:39:59.160799",
          "exception": false,
          "start_time": "2024-02-29T11:39:55.877299",
          "status": "completed"
        },
        "tags": [],
        "id": "77b8a949",
        "outputId": "8c391634-2643-478d-feb5-a5d1ff430b64",
        "colab": {
          "referenced_widgets": [
            "c7c5de1726aa42988c8da63bc728a0ab"
          ]
        }
      },
      "outputs": [
        {
          "data": {
            "application/vnd.jupyter.widget-view+json": {
              "model_id": "c7c5de1726aa42988c8da63bc728a0ab",
              "version_major": 2,
              "version_minor": 0
            },
            "text/plain": [
              "Downloading builder script:   0%|          | 0.00/4.20k [00:00<?, ?B/s]"
            ]
          },
          "metadata": {},
          "output_type": "display_data"
        }
      ],
      "source": [
        "import evaluate\n",
        "import numpy as np\n",
        "\n",
        "accuracy=evaluate.load(\"accuracy\")\n",
        "\n",
        "def compute_metrics(eval_pred):\n",
        "    predictions, labels=eval_pred\n",
        "    acc=accuracy.compute(references=labels, predictions=np.argmax(predictions, axis=1))\n",
        "    return {\"accuracy\":acc[\"accuracy\"]}"
      ]
    },
    {
      "cell_type": "code",
      "execution_count": null,
      "id": "ac47ddc2",
      "metadata": {
        "execution": {
          "iopub.execute_input": "2024-02-29T11:39:59.177877Z",
          "iopub.status.busy": "2024-02-29T11:39:59.177574Z",
          "iopub.status.idle": "2024-02-29T11:46:56.866931Z",
          "shell.execute_reply": "2024-02-29T11:46:56.866057Z"
        },
        "papermill": {
          "duration": 417.700077,
          "end_time": "2024-02-29T11:46:56.869015",
          "exception": false,
          "start_time": "2024-02-29T11:39:59.168938",
          "status": "completed"
        },
        "tags": [],
        "id": "ac47ddc2",
        "outputId": "0364387d-67fb-4004-9492-8aae4437f9d9"
      },
      "outputs": [
        {
          "name": "stderr",
          "output_type": "stream",
          "text": [
            "\u001b[34m\u001b[1mwandb\u001b[0m: Currently logged in as: \u001b[33murakiny\u001b[0m (\u001b[33mcausal_language_trainer\u001b[0m). Use \u001b[1m`wandb login --relogin`\u001b[0m to force relogin\n",
            "\u001b[34m\u001b[1mwandb\u001b[0m: wandb version 0.16.3 is available!  To upgrade, please run:\n",
            "\u001b[34m\u001b[1mwandb\u001b[0m:  $ pip install wandb --upgrade\n",
            "\u001b[34m\u001b[1mwandb\u001b[0m: Tracking run with wandb version 0.16.1\n",
            "\u001b[34m\u001b[1mwandb\u001b[0m: Run data is saved locally in \u001b[35m\u001b[1m/kaggle/working/wandb/run-20240229_114002-loj7qu1m\u001b[0m\n",
            "\u001b[34m\u001b[1mwandb\u001b[0m: Run \u001b[1m`wandb offline`\u001b[0m to turn off syncing.\n",
            "\u001b[34m\u001b[1mwandb\u001b[0m: Syncing run \u001b[33mdistill-beans-vit-224-to-mobile-net-v2\u001b[0m\n",
            "\u001b[34m\u001b[1mwandb\u001b[0m: ⭐️ View project at \u001b[34m\u001b[4mhttps://wandb.ai/causal_language_trainer/Fine-tuning%20merve-beans-vit-224-on-beands\u001b[0m\n",
            "\u001b[34m\u001b[1mwandb\u001b[0m: 🚀 View run at \u001b[34m\u001b[4mhttps://wandb.ai/causal_language_trainer/Fine-tuning%20merve-beans-vit-224-on-beands/runs/loj7qu1m\u001b[0m\n"
          ]
        },
        {
          "data": {
            "text/html": [
              "\n",
              "    <div>\n",
              "      \n",
              "      <progress value='250' max='250' style='width:300px; height:20px; vertical-align: middle;'></progress>\n",
              "      [250/250 06:20, Epoch 5/5]\n",
              "    </div>\n",
              "    <table border=\"1\" class=\"dataframe\">\n",
              "  <thead>\n",
              " <tr style=\"text-align: left;\">\n",
              "      <th>Epoch</th>\n",
              "      <th>Training Loss</th>\n",
              "      <th>Validation Loss</th>\n",
              "      <th>Accuracy</th>\n",
              "    </tr>\n",
              "  </thead>\n",
              "  <tbody>\n",
              "    <tr>\n",
              "      <td>1</td>\n",
              "      <td>0.750200</td>\n",
              "      <td>0.509075</td>\n",
              "      <td>0.710000</td>\n",
              "    </tr>\n",
              "    <tr>\n",
              "      <td>2</td>\n",
              "      <td>0.583300</td>\n",
              "      <td>0.452112</td>\n",
              "      <td>0.710000</td>\n",
              "    </tr>\n",
              "    <tr>\n",
              "      <td>3</td>\n",
              "      <td>0.537600</td>\n",
              "      <td>0.548939</td>\n",
              "      <td>0.710000</td>\n",
              "    </tr>\n",
              "    <tr>\n",
              "      <td>4</td>\n",
              "      <td>0.528300</td>\n",
              "      <td>0.406016</td>\n",
              "      <td>0.720000</td>\n",
              "    </tr>\n",
              "    <tr>\n",
              "      <td>5</td>\n",
              "      <td>0.516400</td>\n",
              "      <td>0.441271</td>\n",
              "      <td>0.700000</td>\n",
              "    </tr>\n",
              "  </tbody>\n",
              "</table><p>"
            ],
            "text/plain": [
              "<IPython.core.display.HTML object>"
            ]
          },
          "metadata": {},
          "output_type": "display_data"
        },
        {
          "data": {
            "text/plain": [
              "TrainOutput(global_step=250, training_loss=0.5831593399047852, metrics={'train_runtime': 416.2823, 'train_samples_per_second': 4.804, 'train_steps_per_second': 0.601, 'total_flos': 4024001802240000.0, 'train_loss': 0.5831593399047852, 'epoch': 5.0})"
            ]
          },
          "execution_count": 10,
          "metadata": {},
          "output_type": "execute_result"
        }
      ],
      "source": [
        "from transformers import DefaultDataCollator\n",
        "\n",
        "data_collator=DefaultDataCollator()\n",
        "\n",
        "trainer=ImageDistilTrainer(\n",
        "    student_model=student_model,\n",
        "    teacher_model=teacher_model,\n",
        "    temperature=5,\n",
        "    lambda_param=0.5,\n",
        "    args=training_args,\n",
        "    train_dataset=processed_datasets[\"train\"],\n",
        "    eval_dataset=processed_datasets[\"test\"],\n",
        "    data_collator=data_collator,\n",
        "    tokenizer=teacher_processor,\n",
        "    compute_metrics=compute_metrics,\n",
        ")\n",
        "\n",
        "trainer.train()"
      ]
    },
    {
      "cell_type": "code",
      "execution_count": null,
      "id": "8e7a328c",
      "metadata": {
        "execution": {
          "iopub.execute_input": "2024-02-29T11:46:56.888280Z",
          "iopub.status.busy": "2024-02-29T11:46:56.887988Z",
          "iopub.status.idle": "2024-02-29T11:47:11.675251Z",
          "shell.execute_reply": "2024-02-29T11:47:11.674401Z"
        },
        "papermill": {
          "duration": 14.798974,
          "end_time": "2024-02-29T11:47:11.677302",
          "exception": false,
          "start_time": "2024-02-29T11:46:56.878328",
          "status": "completed"
        },
        "tags": [],
        "id": "8e7a328c",
        "outputId": "dab02495-606e-434a-e6de-f017e1c2123f"
      },
      "outputs": [
        {
          "data": {
            "text/html": [
              "\n",
              "    <div>\n",
              "      \n",
              "      <progress value='13' max='13' style='width:300px; height:20px; vertical-align: middle;'></progress>\n",
              "      [13/13 00:12]\n",
              "    </div>\n",
              "    "
            ],
            "text/plain": [
              "<IPython.core.display.HTML object>"
            ]
          },
          "metadata": {},
          "output_type": "display_data"
        },
        {
          "data": {
            "text/plain": [
              "{'eval_loss': 0.4060158431529999,\n",
              " 'eval_accuracy': 0.72,\n",
              " 'eval_runtime': 14.7784,\n",
              " 'eval_samples_per_second': 6.767,\n",
              " 'eval_steps_per_second': 0.88,\n",
              " 'epoch': 5.0}"
            ]
          },
          "execution_count": 11,
          "metadata": {},
          "output_type": "execute_result"
        }
      ],
      "source": [
        "trainer.evaluate(processed_datasets[\"test\"])"
      ]
    },
    {
      "cell_type": "code",
      "execution_count": null,
      "id": "ec534282",
      "metadata": {
        "execution": {
          "iopub.execute_input": "2024-02-29T11:47:11.697540Z",
          "iopub.status.busy": "2024-02-29T11:47:11.697242Z",
          "iopub.status.idle": "2024-02-29T11:47:17.311364Z",
          "shell.execute_reply": "2024-02-29T11:47:17.310302Z"
        },
        "papermill": {
          "duration": 5.626597,
          "end_time": "2024-02-29T11:47:17.313780",
          "exception": false,
          "start_time": "2024-02-29T11:47:11.687183",
          "status": "completed"
        },
        "tags": [],
        "id": "ec534282",
        "outputId": "b181a1d1-b8a2-4e4a-d31b-678b65027f8c",
        "colab": {
          "referenced_widgets": [
            "8d1fd4e577784fc1a4f861b83c9e7b74",
            "e9e5b512ed0d4a93b28d366d36fb4383",
            "1f5f40ca5cd84e93af8202df9985a813"
          ]
        }
      },
      "outputs": [
        {
          "data": {
            "application/vnd.jupyter.widget-view+json": {
              "model_id": "8d1fd4e577784fc1a4f861b83c9e7b74",
              "version_major": 2,
              "version_minor": 0
            },
            "text/plain": [
              "Upload 2 LFS files:   0%|          | 0/2 [00:00<?, ?it/s]"
            ]
          },
          "metadata": {},
          "output_type": "display_data"
        },
        {
          "data": {
            "application/vnd.jupyter.widget-view+json": {
              "model_id": "e9e5b512ed0d4a93b28d366d36fb4383",
              "version_major": 2,
              "version_minor": 0
            },
            "text/plain": [
              "training_args.bin:   0%|          | 0.00/4.22k [00:00<?, ?B/s]"
            ]
          },
          "metadata": {},
          "output_type": "display_data"
        },
        {
          "data": {
            "application/vnd.jupyter.widget-view+json": {
              "model_id": "1f5f40ca5cd84e93af8202df9985a813",
              "version_major": 2,
              "version_minor": 0
            },
            "text/plain": [
              "model.safetensors:   0%|          | 0.00/9.09M [00:00<?, ?B/s]"
            ]
          },
          "metadata": {},
          "output_type": "display_data"
        },
        {
          "data": {
            "text/plain": [
              "'https://huggingface.co/aisuko/distill-beans-vit-224-to-mobile-net-v2/tree/main/'"
            ]
          },
          "execution_count": 12,
          "metadata": {},
          "output_type": "execute_result"
        }
      ],
      "source": [
        "kwargs={\n",
        "    'model_name': f'{os.getenv(\"WANDB_NAME\")}',\n",
        "#     'finetuned_from': model_name,\n",
        "    'tasks': 'Image Classification',\n",
        "#     'dataset_tags':'',\n",
        "    'dataset':'beans'\n",
        "}\n",
        "\n",
        "\n",
        "teacher_processor.push_to_hub(os.getenv(\"WANDB_NAME\"))\n",
        "trainer.push_to_hub(**kwargs)"
      ]
    }
  ],
  "metadata": {
    "kaggle": {
      "accelerator": "gpu",
      "dataSources": [],
      "dockerImageVersionId": 30616,
      "isGpuEnabled": true,
      "isInternetEnabled": true,
      "language": "python",
      "sourceType": "notebook"
    },
    "kernelspec": {
      "display_name": "Python 3",
      "language": "python",
      "name": "python3"
    },
    "language_info": {
      "codemirror_mode": {
        "name": "ipython",
        "version": 3
      },
      "file_extension": ".py",
      "mimetype": "text/x-python",
      "name": "python",
      "nbconvert_exporter": "python",
      "pygments_lexer": "ipython3",
      "version": "3.10.12"
    },
    "papermill": {
      "default_parameters": {},
      "duration": 612.916751,
      "end_time": "2024-02-29T11:47:20.091708",
      "environment_variables": {},
      "exception": null,
      "input_path": "__notebook__.ipynb",
      "output_path": "__notebook__.ipynb",
      "parameters": {},
      "start_time": "2024-02-29T11:37:07.174957",
      "version": "2.4.0"
    },
    "widgets": {
      "application/vnd.jupyter.widget-state+json": {}
    },
    "colab": {
      "provenance": [],
      "include_colab_link": true
    }
  },
  "nbformat": 4,
  "nbformat_minor": 5
}